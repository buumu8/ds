{
 "cells": [
  {
   "cell_type": "markdown",
   "id": "8ac07f60-8c75-4ab4-b5c8-23b5b40676f9",
   "metadata": {},
   "source": [
    "# Assignment - Week 2 Perceptron/Adaline\n",
    "\n",
    "Jettapol Tuetrakul\n",
    "\n",
    "jt5326@nyu.edu\n",
    "\n",
    "## Instruction\n",
    "\n",
    "(Note: Use the Scikit-learn library only if you need to scale the data, implement Perceptron and Adaline using gradient descent procedure without using sklearn.)\n",
    "The programming assignment for the Perceptron/Adaline mode is\n",
    "\n",
    "Download the sample Python code that comes with the assigned textbook, Python Machine Learning*.\n",
    "\n",
    "Use the Iris dataset that's referenced in the text. (add page reference)\n",
    "\n",
    "You can use the sample code from the text as a starting point or you can write your own code from scratch.\n",
    "\n",
    "Pick two classes of data (i.e., two species of Iris) and two features from the four in the dataset, so that the data for two species are linearly separable using the features that you have chosen.\n",
    "\n",
    "Then Apply the Perceptron and Adaline models to the classes/feature that you have chosen and report your results.\n",
    "\n",
    "5. Repeat Step 4) using three features at a time.\n",
    "\n",
    "6. Repeat Step 4) using all four features at the same time.\n",
    "\n",
    "7. Pick two classes of data (i.e., two species of Iris) and two features from the four in the dataset, so that the data for two species are NOT linearly separable using the features that you have chosen.\n",
    "\n",
    "Then Apply the Perceptron and Adaline models to the classes/features that you have chosen and report your results.\n",
    "\n",
    "8. Repeat Step 7) using three features at a time.\n",
    "\n",
    "9. Repeat Step 7) using all four feature at the same time.\n",
    "\n",
    "10. Compare your results for the Perceptron and Adaline models.\n",
    "\n",
    "11. Submit your results as an ipython notebook (i.e. in ipynb format).\n",
    "\n",
    "You can use the example code in file M1_Python ML Basics.ipynb uploaded to the modules 1 & 2.\n",
    "\n",
    "*Python Machine Learning: Machine Learning and Deep Learning with Python, scikit-learn,"
   ]
  },
  {
   "cell_type": "markdown",
   "id": "40e8d511-0c70-43c0-9553-005ca55cf6d4",
   "metadata": {},
   "source": [
    "## Download the datasets and prepare environments"
   ]
  },
  {
   "cell_type": "markdown",
   "id": "1e3e4851-2934-4fdf-9170-4d698418c70a",
   "metadata": {},
   "source": [
    "Get Data Zip File"
   ]
  },
  {
   "cell_type": "code",
   "execution_count": 1,
   "id": "e1a5c758-0414-4197-98be-5cfc19e31b52",
   "metadata": {},
   "outputs": [],
   "source": [
    "url = \"https://archive.ics.uci.edu/static/public/53/iris.zip\""
   ]
  },
  {
   "cell_type": "code",
   "execution_count": 2,
   "id": "c4b0ca90-3f0b-4a03-992a-9afed82c9be0",
   "metadata": {},
   "outputs": [],
   "source": [
    "import requests, zipfile\n",
    "from io import BytesIO\n",
    "request = requests.get(url)\n",
    "file = zipfile.ZipFile(BytesIO(request.content))\n",
    "file.extractall()"
   ]
  },
  {
   "cell_type": "markdown",
   "id": "6d13a93d-52ca-4979-81b1-e3ea817faae3",
   "metadata": {},
   "source": [
    "Import Necessary labraries"
   ]
  },
  {
   "cell_type": "code",
   "execution_count": 3,
   "id": "42ab86ca-9309-4eda-9832-dc92587fa006",
   "metadata": {},
   "outputs": [
    {
     "ename": "ModuleNotFoundError",
     "evalue": "No module named 'seaborn'",
     "output_type": "error",
     "traceback": [
      "\u001b[1;31m---------------------------------------------------------------------------\u001b[0m",
      "\u001b[1;31mModuleNotFoundError\u001b[0m                       Traceback (most recent call last)",
      "Cell \u001b[1;32mIn[3], line 3\u001b[0m\n\u001b[0;32m      1\u001b[0m \u001b[38;5;28;01mimport\u001b[39;00m \u001b[38;5;21;01mpandas\u001b[39;00m \u001b[38;5;28;01mas\u001b[39;00m \u001b[38;5;21;01mpd\u001b[39;00m\n\u001b[0;32m      2\u001b[0m \u001b[38;5;28;01mimport\u001b[39;00m \u001b[38;5;21;01mnumpy\u001b[39;00m \u001b[38;5;28;01mas\u001b[39;00m \u001b[38;5;21;01mnp\u001b[39;00m\n\u001b[1;32m----> 3\u001b[0m \u001b[38;5;28;01mimport\u001b[39;00m \u001b[38;5;21;01mseaborn\u001b[39;00m \u001b[38;5;28;01mas\u001b[39;00m \u001b[38;5;21;01msns\u001b[39;00m\n\u001b[0;32m      4\u001b[0m get_ipython()\u001b[38;5;241m.\u001b[39mrun_line_magic(\u001b[38;5;124m'\u001b[39m\u001b[38;5;124mmatplotlib\u001b[39m\u001b[38;5;124m'\u001b[39m, \u001b[38;5;124m'\u001b[39m\u001b[38;5;124minline\u001b[39m\u001b[38;5;124m'\u001b[39m)\n\u001b[0;32m      5\u001b[0m \u001b[38;5;28;01mimport\u001b[39;00m \u001b[38;5;21;01mmatplotlib\u001b[39;00m\u001b[38;5;21;01m.\u001b[39;00m\u001b[38;5;21;01mpyplot\u001b[39;00m \u001b[38;5;28;01mas\u001b[39;00m \u001b[38;5;21;01mplt\u001b[39;00m\n",
      "\u001b[1;31mModuleNotFoundError\u001b[0m: No module named 'seaborn'"
     ]
    }
   ],
   "source": [
    "import pandas as pd\n",
    "import numpy as np\n",
    "import seaborn as sns\n",
    "%matplotlib inline\n",
    "import matplotlib.pyplot as plt"
   ]
  },
  {
   "cell_type": "code",
   "execution_count": null,
   "id": "4a6025c5-9303-43b4-84ef-84eeca1de60c",
   "metadata": {},
   "outputs": [],
   "source": [
    "df = pd.read_csv(\"iris.data\",header=None,encoding=\"utf-8\")\n",
    "df.head()"
   ]
  },
  {
   "cell_type": "code",
   "execution_count": null,
   "id": "b4422252-bf69-495a-96e4-ed3c6f097edc",
   "metadata": {},
   "outputs": [],
   "source": [
    "df.rename(columns={0: 'sepal_length', 1: 'sepal_width', 2: 'petal_length', 3: 'petal_width', 4: 'class_label'}, inplace=True)"
   ]
  },
  {
   "cell_type": "code",
   "execution_count": null,
   "id": "1fda2d8e-849d-4acd-bdb0-a7f2c99af5c0",
   "metadata": {},
   "outputs": [],
   "source": [
    "df.head()"
   ]
  },
  {
   "cell_type": "markdown",
   "id": "0a798744-b2b8-49c5-9318-24d0716542fc",
   "metadata": {},
   "source": [
    "## 4.) Pick two classes of data (i.e., two species of Iris) and two features from the four in the dataset, so that the data for two species are linearly separable using the features that you have chosen.\n",
    "\n",
    "Selected classes (2): \n",
    "- Iris-setosa\n",
    "- Iris-versicolor\n",
    "\n",
    "Selected features (2): \n",
    "- Sepal length\n",
    "- Petal length"
   ]
  },
  {
   "cell_type": "markdown",
   "id": "6d4a435e-82fa-4abe-9c0c-384d655df3c3",
   "metadata": {},
   "source": [
    "Extract the first 100 class labels that correspond to the 50 Iris-setosa and 50 Iris-versicolor flowers"
   ]
  },
  {
   "cell_type": "code",
   "execution_count": null,
   "id": "db136af2-1523-48a0-af92-8d6f2992933f",
   "metadata": {},
   "outputs": [],
   "source": [
    "y = df.loc[:99,\"class_label\"].values\n",
    "y"
   ]
  },
  {
   "cell_type": "markdown",
   "id": "75d6109f-4b90-48c5-aa4d-3c19991d9066",
   "metadata": {},
   "source": [
    "Convert the class labels into the two integer class labels"
   ]
  },
  {
   "cell_type": "code",
   "execution_count": null,
   "id": "c56b22a5-47b1-4f68-ac43-c3de7b620023",
   "metadata": {},
   "outputs": [],
   "source": [
    "y = np.where(y==\"Iris-setosa\",-1,1)\n",
    "y"
   ]
  },
  {
   "cell_type": "code",
   "execution_count": null,
   "id": "f7d06529-da8b-416a-a61a-d63205c65446",
   "metadata": {},
   "outputs": [],
   "source": [
    "y.size"
   ]
  },
  {
   "cell_type": "markdown",
   "id": "47163a45-1aed-4d66-be2e-c06d435fa92b",
   "metadata": {},
   "source": [
    "Extract sepal length and petal length"
   ]
  },
  {
   "cell_type": "code",
   "execution_count": null,
   "id": "9566fbee-72d8-4c10-803e-f87d8819719f",
   "metadata": {},
   "outputs": [],
   "source": [
    "X = df.loc[0:99, [\"sepal_length\",\"petal_length\"]].values"
   ]
  },
  {
   "cell_type": "code",
   "execution_count": null,
   "id": "5b7bafd8-a472-4923-86b5-7fae8abef0e1",
   "metadata": {},
   "outputs": [],
   "source": [
    "X.shape"
   ]
  },
  {
   "cell_type": "markdown",
   "id": "5ea4ed13-2c1e-4639-a698-cc35eb589056",
   "metadata": {},
   "source": [
    "Plot the data"
   ]
  },
  {
   "cell_type": "code",
   "execution_count": null,
   "id": "ce205f71-9e7a-4369-be31-cfe9bcda31e2",
   "metadata": {},
   "outputs": [],
   "source": [
    "plt.scatter(X[:50,0], X[:50,1], color=\"red\", marker=\"o\", label=\"setosa\")\n",
    "plt.scatter(X[50:100,0], X[50:100,1], color=\"blue\", marker=\"x\", label=\"versicolor\")\n",
    "plt.xlabel(\"sepal length (cm)\")\n",
    "plt.ylabel(\"petal length (cm)\")\n",
    "plt.legend(loc=\"upper left\")\n",
    "plt.title(\"Setosa vs. Versicolor (sepal length/petal length)\")\n",
    "plt.show()"
   ]
  },
  {
   "cell_type": "markdown",
   "id": "bc9d0c8c-0dec-4c48-8f37-759e83cbf992",
   "metadata": {},
   "source": [
    "The graph shows that the two data are clearly linearly seperable."
   ]
  },
  {
   "cell_type": "markdown",
   "id": "c7959afd-5cf1-4d8f-b56c-128df3528ee1",
   "metadata": {},
   "source": [
    "### Perceptron Implementation"
   ]
  },
  {
   "cell_type": "code",
   "execution_count": null,
   "id": "4c96b2bd-55b2-4d08-aaf6-b95379187f80",
   "metadata": {},
   "outputs": [],
   "source": [
    "# Code excerpts from Python Machine Learning 3rd Edition\n",
    "# Implementing Perceptron\n",
    "class Perceptron(object):\n",
    "    \"\"\"Perceptron classifier.\n",
    "\n",
    "    Parameters\n",
    "    ------------\n",
    "    eta : float\n",
    "      Learning rate (between 0.0 and 1.0)\n",
    "    n_iter : int\n",
    "      Passes over the training dataset.\n",
    "    random_state : int\n",
    "      Random number generator seed for random weight\n",
    "      initialization.\n",
    "\n",
    "    Attributes\n",
    "    -----------\n",
    "    w_ : 1d-array\n",
    "      Weights after fitting.\n",
    "    errors_ : list\n",
    "      Number of misclassifications (updates) in each epoch.\n",
    "\n",
    "    \"\"\"\n",
    "    def __init__(self, eta=0.01, n_iter=50, random_state=1):\n",
    "        self.eta = eta\n",
    "        self.n_iter = n_iter\n",
    "        self.random_state = random_state\n",
    "\n",
    "    def fit(self, X, y):\n",
    "        \"\"\"Fit training data.\n",
    "\n",
    "        Parameters\n",
    "        ----------\n",
    "        X : {array-like}, shape = [n_examples, n_features]\n",
    "          Training vectors, where n_examples is the number of examples and\n",
    "          n_features is the number of features.\n",
    "        y : array-like, shape = [n_examples]\n",
    "          Target values.\n",
    "\n",
    "        Returns\n",
    "        -------\n",
    "        self : object\n",
    "\n",
    "        \"\"\"\n",
    "        rgen = np.random.RandomState(self.random_state)\n",
    "        self.w_ = rgen.normal(loc=0.0, scale=0.01, size=1 + X.shape[1])\n",
    "        self.errors_ = []\n",
    "\n",
    "        for _ in range(self.n_iter):\n",
    "            errors = 0\n",
    "            for xi, target in zip(X, y):\n",
    "                update = self.eta * (target - self.predict(xi))\n",
    "                self.w_[1:] += update * xi\n",
    "                self.w_[0] += update\n",
    "                errors += int(update != 0.0)\n",
    "            self.errors_.append(errors)\n",
    "        return self\n",
    "\n",
    "    def net_input(self, X):\n",
    "        \"\"\"Calculate net input\"\"\"\n",
    "        return np.dot(X, self.w_[1:]) + self.w_[0]\n",
    "\n",
    "    def predict(self, X):\n",
    "        \"\"\"Return class label after unit step\"\"\"\n",
    "        return np.where(self.net_input(X) >= 0.0, 1, -1)\n",
    "        \n",
    "    def evaluate(self, X, y):\n",
    "        \"\"\"Evaluate the model\"\"\"\n",
    "        predictions = self.predict(X).reshape(-1)\n",
    "        accuracy = np.sum(predictions == y) / y.shape[0]\n",
    "        return accuracy"
   ]
  },
  {
   "cell_type": "code",
   "execution_count": null,
   "id": "2d6597aa-9c63-4d1b-976c-63ebd4525fe8",
   "metadata": {},
   "outputs": [],
   "source": [
    "ppn = Perceptron(eta=0.1, n_iter=10)\n",
    "ppn.fit(X,y)\n",
    "plt.plot(range(1, len(ppn.errors_)+1), ppn.errors_, marker=\"o\")\n",
    "plt.xlabel(\"epochs\")\n",
    "plt.ylabel(\"# of updates\")\n",
    "plt.title(\"Misclassification errors on each number of epochs\")\n",
    "plt.show()"
   ]
  },
  {
   "cell_type": "markdown",
   "id": "18bca0af-3546-4ca5-b20c-e072bad4636f",
   "metadata": {},
   "source": [
    "## Evaluating the model"
   ]
  },
  {
   "cell_type": "code",
   "execution_count": null,
   "id": "b40494f2-f35c-4cad-9351-9673cdbe09f7",
   "metadata": {},
   "outputs": [],
   "source": [
    "train_acc = ppn.evaluate(X,y)\n",
    "print(\"training set accuracy: %.2f%%\" % (train_acc*100))"
   ]
  },
  {
   "cell_type": "markdown",
   "id": "03d15980-7053-4714-9892-115c3069ae90",
   "metadata": {},
   "source": [
    "As shown in the plot, perceptron converged after the sixth epoch and can classify data with 100% accuracy.\n"
   ]
  },
  {
   "cell_type": "code",
   "execution_count": null,
   "id": "e93b36fe-f082-4d46-9118-1a09f8345d5a",
   "metadata": {},
   "outputs": [],
   "source": [
    "from matplotlib.colors import ListedColormap\n",
    "def plot_decision_regions(X, y, classifier, resolution=0.02):\n",
    "    # setup marker generator and color map\n",
    "    markers = ('s', 'x', 'o', '^', 'v')\n",
    "    colors = ('red', 'blue', 'lightgreen', 'gray', 'cyan')\n",
    "    cmap = ListedColormap(colors[:len(np.unique(y))])\n",
    "    # plot the decision surface\n",
    "    x1_min, x1_max = X[:, 0].min() - 1, X[:, 0].max() + 1\n",
    "    x2_min, x2_max = X[:, 1].min() - 1, X[:, 1].max() + 1\n",
    "    xx1, xx2 = np.meshgrid(np.arange(x1_min, x1_max, resolution), \n",
    "                           np.arange(x2_min, x2_max, resolution))\n",
    "    Z = classifier.predict(np.array([xx1.ravel(), xx2.ravel()]).T)\n",
    "    Z = Z.reshape(xx1.shape)\n",
    "    plt.contourf(xx1, xx2, Z, alpha=0.3, cmap=cmap)\n",
    "    plt.xlim(xx1.min(), xx1.max())\n",
    "    plt.ylim(xx2.min(), xx2.max())\n",
    "    # plot class examples\n",
    "    for idx, cl in enumerate(np.unique(y)):\n",
    "         plt.scatter(x=X[y == cl, 0], \n",
    "         y=X[y == cl, 1], \n",
    "                     alpha=0.8, \n",
    "                     c=colors[idx], \n",
    "                     marker=markers[idx], \n",
    "                     label=cl, \n",
    "                     edgecolor='black')"
   ]
  },
  {
   "cell_type": "code",
   "execution_count": null,
   "id": "cb15d848-b1e3-44db-b399-729687dd6a9b",
   "metadata": {},
   "outputs": [],
   "source": [
    "plot_decision_regions(X, y, classifier=ppn)\n",
    "plt.xlabel(\"sepal length (cm)\")\n",
    "plt.ylabel(\"petal length (cm)\")\n",
    "plt.legend([\"setosa\",\"versicolor\"],loc=\"upper left\")\n",
    "plt.title(\"Perceptron: setosa vs. versicolor (2 features)\")\n",
    "plt.show()"
   ]
  },
  {
   "cell_type": "markdown",
   "id": "46db2a4e-89d8-46df-b043-2e720a975619",
   "metadata": {},
   "source": [
    "As we can see in the plot, the perceptron learned a decision boundary that is able to \n",
    "classify all flower examples in the Iris training subset perfectly.\n"
   ]
  },
  {
   "cell_type": "markdown",
   "id": "dcf678f2-cf89-43d7-a191-549481a664e9",
   "metadata": {},
   "source": [
    "### Adaline Implementation"
   ]
  },
  {
   "cell_type": "code",
   "execution_count": null,
   "id": "2a1df67f-4c66-4052-ad63-a04b17af7e93",
   "metadata": {},
   "outputs": [],
   "source": [
    "# Code excerpts from Python Machine Learning - 3rd Edition\n",
    "# Adaline with Stochastic Gradient Descent\n",
    "\n",
    "class AdalineSGD(object):\n",
    "    \"\"\"ADAptive LInear NEuron classifier.\n",
    "    Parameters\n",
    "    ------------\n",
    "    eta : float\n",
    "        Learning rate (between 0.0 and 1.0)\n",
    "    n_iter : int\n",
    "        Passes over the training dataset.\n",
    "    shuffle : bool (default: True)\n",
    "        Shuffles training data every epoch if True to prevent  \n",
    "        cycles.\n",
    "    random_state : int\n",
    "        Random number generator seed for random weight  \n",
    "        initialization.\n",
    "    Attributes\n",
    "    -----------\n",
    "    w_ : 1d-array\n",
    "        Weights after fitting.\n",
    "    cost_ : list\n",
    "        Sum-of-squares cost function value averaged over all\n",
    "        training examples in each epoch.\n",
    "    \"\"\"\n",
    "    def __init__(self, eta=0.01, n_iter=10, \n",
    "              shuffle=True, random_state=None):\n",
    "        self.eta = eta\n",
    "        self.n_iter = n_iter\n",
    "        self.w_initialized = False\n",
    "        self.shuffle = shuffle\n",
    "        self.random_state = random_state\n",
    "    def fit(self, X, y):\n",
    "        \"\"\" Fit training data.\n",
    "        Parameters\n",
    "        ----------\n",
    "        X : {array-like}, shape = [n_examples, n_features]\n",
    "            Training vectors, where n_examples is the number of  \n",
    "            examples and n_features is the number of features.\n",
    "        y : array-like, shape = [n_examples]\n",
    "            Target values.\n",
    "        Returns\n",
    "        -------\n",
    "        self : object\n",
    "        \"\"\"\n",
    "        self._initialize_weights(X.shape[1])\n",
    "        self.cost_ = []\n",
    "        for i in range(self.n_iter):\n",
    "            if self.shuffle:\n",
    "                X, y = self._shuffle(X, y)\n",
    "            cost = []\n",
    "            for xi, target in zip(X, y):\n",
    "                cost.append(self._update_weights(xi, target))\n",
    "            avg_cost = sum(cost) / len(y)\n",
    "            self.cost_.append(avg_cost)\n",
    "        return self\n",
    "    def partial_fit(self, X, y):\n",
    "        \"\"\"Fit training data without reinitializing the weights\"\"\"\n",
    "        if not self.w_initialized:\n",
    "            self._initialize_weights(X.shape[1])\n",
    "        if y.ravel().shape[0] > 1:\n",
    "            for xi, target in zip(X, y):\n",
    "                self._update_weights(xi, target)\n",
    "        else:\n",
    "            self._update_weights(X, y)\n",
    "        return self\n",
    "    def _shuffle(self, X, y):\n",
    "        \"\"\"Shuffle training data\"\"\"\n",
    "        r = self.rgen.permutation(len(y))\n",
    "        return X[r], y[r]\n",
    "    def _initialize_weights(self, m):\n",
    "        \"\"\"Initialize weights to small random numbers\"\"\"\n",
    "        self.rgen = np.random.RandomState(self.random_state)\n",
    "        self.w_ = self.rgen.normal(loc=0.0, scale=0.01,\n",
    "                                   size=1 + m)\n",
    "        self.w_initialized = True\n",
    "    def _update_weights(self, xi, target):\n",
    "        \"\"\"Apply Adaline learning rule to update the weights\"\"\"\n",
    "        output = self.activation(self.net_input(xi))\n",
    "        error = (target - output)\n",
    "        self.w_[1:] += self.eta * xi.dot(error)\n",
    "        self.w_[0] += self.eta * error\n",
    "        cost = 0.5 * error**2\n",
    "        return cost\n",
    "    def net_input(self, X):\n",
    "        \"\"\"Calculate net input\"\"\"\n",
    "        return np.dot(X, self.w_[1:]) + self.w_[0]\n",
    "    def activation(self, X):\n",
    "        \"\"\"Compute linear activation\"\"\"\n",
    "        return X\n",
    "    def predict(self, X):\n",
    "        \"\"\"Return class label after unit step\"\"\"\n",
    "        return np.where(self.activation(self.net_input(X))\n",
    "                        >= 0.0, 1, -1)\n",
    "    def evaluate(self, X, y):\n",
    "        \"\"\"Evaluate the model\"\"\"\n",
    "        predictions = self.predict(X).reshape(-1)\n",
    "        accuracy = np.sum(predictions == y) / y.shape[0]\n",
    "        return accuracy"
   ]
  },
  {
   "cell_type": "markdown",
   "id": "ecb228d3-f7a9-4bda-8aae-0ee44e151c2d",
   "metadata": {},
   "source": [
    "First we need to standardize the data"
   ]
  },
  {
   "cell_type": "code",
   "execution_count": null,
   "id": "be4d665f-601f-4ff4-aa71-3fa7bfb3a3ed",
   "metadata": {},
   "outputs": [],
   "source": [
    "X_std = np.copy(X)\n",
    "X_std[:,0] = (X[:,0] - X[:,0].mean()) / X[:,0].std()\n",
    "X_std[:,1] = (X[:,1] - X[:,1].mean()) / X[:,1].std()"
   ]
  },
  {
   "cell_type": "code",
   "execution_count": null,
   "id": "5e7631e4-3eaa-4b65-8f5e-0d08f7008bbc",
   "metadata": {},
   "outputs": [],
   "source": [
    "fig, ax = plt.subplots(nrows=1, ncols=2, figsize=(10, 4))\n",
    "\n",
    "ada1 = AdalineSGD(n_iter=10, eta=0.01).fit(X_std, y)\n",
    "ax[0].plot(range(1, len(ada1.cost_) + 1), np.log10(ada1.cost_), marker='o')\n",
    "ax[0].set_xlabel('Epochs')\n",
    "ax[0].set_ylabel('log(Sum-squared-error)')\n",
    "ax[0].set_title('Adaline - Learning rate 0.01')\n",
    "\n",
    "ada2 = AdalineSGD(n_iter=10, eta=0.0001).fit(X_std, y)\n",
    "ax[1].plot(range(1, len(ada2.cost_) + 1), ada2.cost_, marker='o')\n",
    "ax[1].set_xlabel('Epochs')\n",
    "ax[1].set_ylabel('Sum-squared-error')\n",
    "ax[1].set_title('Adaline - Learning rate 0.0001')\n",
    "\n",
    "# plt.savefig('images/02_11.png', dpi=300)\n",
    "plt.show()"
   ]
  },
  {
   "cell_type": "markdown",
   "id": "caae30f3-452b-4b80-9136-301f51791a91",
   "metadata": {},
   "source": [
    "We will set initial learning rate (eta) to 0.01"
   ]
  },
  {
   "cell_type": "code",
   "execution_count": null,
   "id": "4bf2eb5a-6186-49cb-a73e-a71ce7549318",
   "metadata": {},
   "outputs": [],
   "source": [
    "ada_sgd = AdalineSGD(n_iter=15, eta=0.01)\n",
    "ada_sgd.fit(X_std, y)\n",
    "\n",
    "plot_decision_regions(X_std, y, classifier=ada_sgd)\n",
    "plt.title('Adaline: Setosa vs Versicolor (2 features)')\n",
    "plt.xlabel('sepal length [Standardized]')\n",
    "plt.ylabel('petal length [Standardized]')\n",
    "plt.legend([\"setosa\",\"versicolor\"],loc=\"upper left\")\n",
    "plt.tight_layout()\n",
    "plt.show()\n",
    "\n",
    "plt.plot(range(1, len(ada_sgd.cost_)+1),ada_sgd.cost_,marker='o')\n",
    "plt.xlabel('Epochs')\n",
    "plt.ylabel('Sum-squared-error')\n",
    "plt.tight_layout()\n",
    "plt.show()"
   ]
  },
  {
   "cell_type": "markdown",
   "id": "7c2ac0c2-9e82-4754-bc50-87a8a95e28f9",
   "metadata": {},
   "source": [
    "## Evaluating the model"
   ]
  },
  {
   "cell_type": "code",
   "execution_count": null,
   "id": "7f63bd87-c114-4972-8798-4151281a6ca3",
   "metadata": {},
   "outputs": [],
   "source": [
    "train_acc = ada_sgd.evaluate(X_std,y)\n",
    "print(\"training set accuracy: %.2f%%\" % (train_acc*100))"
   ]
  },
  {
   "cell_type": "markdown",
   "id": "4da6eb1b-45e8-4839-93ff-d5aff52feb95",
   "metadata": {},
   "source": [
    "As shown on the graph, Adaline has converged after training with learning rate 0.01. However, Sum-squared-error (SSE) remains non zero even though all samples were classified correctly."
   ]
  },
  {
   "cell_type": "markdown",
   "id": "e5dfa4ed-9270-450c-abd9-1e56f45fb0ed",
   "metadata": {},
   "source": [
    "## 5. Repeat Step 4) using three features at a time.\n",
    "\n",
    "Selected classes (2): \n",
    "- Iris-setosa\n",
    "- Iris-versicolor\n",
    "\n",
    "Selected features (3): \n",
    "- Sepal length\n",
    "- Sepal Width\n",
    "- Petal length"
   ]
  },
  {
   "cell_type": "code",
   "execution_count": null,
   "id": "87b8aab9-37f5-40ff-b647-bd69ec9026ee",
   "metadata": {},
   "outputs": [],
   "source": [
    "X = df.loc[0:99, [\"sepal_length\",\"sepal_width\",\"petal_length\"]].values"
   ]
  },
  {
   "cell_type": "code",
   "execution_count": null,
   "id": "0f533c18-c8cb-47b6-8bae-e3f6c0119229",
   "metadata": {},
   "outputs": [],
   "source": [
    "fig = plt.figure(figsize=(12,8))\n",
    "\n",
    "ax = fig.add_subplot(projection='3d')\n",
    "\n",
    "plt.scatter(X[:50,0], X[:50,1], X[:50,2], color=\"red\", marker=\"o\", label=\"setosa\")\n",
    "plt.scatter(X[50:100,0], X[50:100,1], X[50:100,2], color=\"blue\", marker=\"x\", label=\"versicolor\")\n",
    "ax.set_xlabel(\"sepal length (cm)\")\n",
    "ax.set_ylabel(\"sepal width (cm)\")\n",
    "ax.set_zlabel(\"petal length (cm)\")\n",
    "\n",
    "# set initial view\n",
    "ax.view_init(50,50,50)\n",
    "plt.title(\"setosa vs. versicolor (sepal length/ sepal width/ petal length)\")\n",
    "plt.legend(loc=\"upper left\")\n",
    "plt.show()"
   ]
  },
  {
   "cell_type": "markdown",
   "id": "08e29c74-d6c2-4f39-94c1-c507da6f1a0b",
   "metadata": {},
   "source": [
    "As shown in the plot, the data is linearly separable."
   ]
  },
  {
   "cell_type": "markdown",
   "id": "5fa1a9ae-a510-4468-a772-bd276fb6bc7a",
   "metadata": {},
   "source": [
    "### Perceptron - linearly separable (3 features)"
   ]
  },
  {
   "cell_type": "code",
   "execution_count": null,
   "id": "423bb535-af29-48fd-8075-ae1a4108260a",
   "metadata": {},
   "outputs": [],
   "source": [
    "ppn = Perceptron(eta=0.1, n_iter=10)\n",
    "ppn.fit(X,y)\n",
    "\n",
    "plt.plot(range(1, len(ppn.errors_)+1), ppn.errors_, marker=\"o\")\n",
    "plt.xlabel(\"epochs\")\n",
    "plt.ylabel(\"# of updates\")\n",
    "plt.title(\"Misclassification errors on each epochs\")\n",
    "plt.show()"
   ]
  },
  {
   "cell_type": "markdown",
   "id": "6c1b8759-69f9-43ce-9d70-879412553a6e",
   "metadata": {},
   "source": [
    "As shown in the plot, perceptron converges after 5th epoch."
   ]
  },
  {
   "cell_type": "code",
   "execution_count": null,
   "id": "ce2fee30-afc0-481a-8dd3-2864087b50e1",
   "metadata": {},
   "outputs": [],
   "source": [
    "# Plot a decision regions in 3D\n",
    "\n",
    "from matplotlib.colors import ListedColormap\n",
    "def plot_decision_regions_3D(X, y, classifier, resolution=0.02, v1=0, v2=0, v3=0):\n",
    "    \n",
    "    # setup marker generator and color map\n",
    "    markers = ('s', 'x', 'o', '^', 'v')\n",
    "    colors = ('red', 'blue', 'lightgreen', 'gray', 'cyan')\n",
    "    cmap = ListedColormap(colors[:len(np.unique(y))])\n",
    "\n",
    "    # setup for 3D plot\n",
    "    fig = plt.figure(figsize=(12,8))\n",
    "    ax = plt.axes(projection=\"3d\")\n",
    "    ax.set_xlabel(\"sepal length (cm)\")\n",
    "    ax.set_ylabel(\"sepal width (cm)\")\n",
    "    ax.set_zlabel(\"petal length (cm)\")\n",
    "    \n",
    "    # plot the decision surface\n",
    "    x1_min, x1_max = X[:, 0].min() - 1, X[:, 0].max() + 1\n",
    "    x2_min, x2_max = X[:, 1].min() - 1, X[:, 1].max() + 1\n",
    "\n",
    "    xx1, xx2 = np.meshgrid(np.arange(x1_min, x1_max, resolution), \n",
    "                           np.arange(x2_min, x2_max, resolution))\n",
    "\n",
    "    # Get weights\n",
    "    w = classifier.w_\n",
    "    \n",
    "    # projection of the plane\n",
    "    Z = -(1/w[3])*(w[0]*xx1 + w[1]*xx2 + w[2])\n",
    "    ax.plot_surface(xx1, xx2, Z, alpha=0.5, color=\"yellow\")\n",
    "    ax.view_init(v1,v2,v3)\n",
    "    \n",
    "    # plot class examples\n",
    "    ax.scatter(X[:50,0], X[:50,1], X[:50,2], color=\"red\", marker=\"o\", label=\"setosa\")\n",
    "    ax.scatter(X[50:100,0], X[50:100,1], X[50:100,2], color=\"blue\", marker=\"x\", label=\"versicolor\")\n"
   ]
  },
  {
   "cell_type": "code",
   "execution_count": null,
   "id": "d58632dd-95ec-4fed-9f69-943a485c3331",
   "metadata": {},
   "outputs": [],
   "source": [
    "plot_decision_regions_3D(X, y, classifier=ppn,v1=0,v2=10,v3=0)\n",
    "plt.legend([\"separation plane\",\"setosa\",\"versicolor\"],loc=\"upper left\")\n",
    "plt.title(\"Perceptron: setosa vs. versicolor (3 features)\")\n",
    "plt.show()"
   ]
  },
  {
   "cell_type": "markdown",
   "id": "db2d513d-c042-4e29-9a0a-920ac79ca91e",
   "metadata": {},
   "source": [
    "## Evaluating the model"
   ]
  },
  {
   "cell_type": "code",
   "execution_count": null,
   "id": "d598c626-99a2-42d0-b456-02a3abd231c1",
   "metadata": {},
   "outputs": [],
   "source": [
    "train_acc = ppn.evaluate(X,y)\n",
    "print(\"training set accuracy: %.2f%%\" % (train_acc*100))"
   ]
  },
  {
   "cell_type": "markdown",
   "id": "c6725ab0-aaec-47d1-a5bb-038d5e1b516c",
   "metadata": {},
   "source": [
    "As we can see in the plot, the perceptron created a decision boundary that is able to classify all flower examples in the Iris training subset."
   ]
  },
  {
   "cell_type": "markdown",
   "id": "e794dc47-e582-4b71-abca-fec0e8052ec1",
   "metadata": {},
   "source": [
    "### Adaline - linearly separable (3 features)"
   ]
  },
  {
   "cell_type": "code",
   "execution_count": null,
   "id": "149b315b-9910-40d2-a1e8-7441faa58b4d",
   "metadata": {},
   "outputs": [],
   "source": [
    "# Standardizing data\n",
    "X_std = np.copy(X)\n",
    "X_std[:,0] = (X[:,0] - X[:,0].mean()) / X[:,0].std()\n",
    "X_std[:,1] = (X[:,1] - X[:,1].mean()) / X[:,1].std()\n",
    "X_std[:,2] = (X[:,2] - X[:,2].mean()) / X[:,2].std()"
   ]
  },
  {
   "cell_type": "code",
   "execution_count": null,
   "id": "361c092f-a0d8-423d-8853-5a7a2492f3d6",
   "metadata": {},
   "outputs": [],
   "source": [
    "fig, ax = plt.subplots(nrows=1, ncols=2, figsize=(10, 4))\n",
    "\n",
    "ada1 = AdalineSGD(n_iter=10, eta=0.1).fit(X_std, y)\n",
    "ax[0].plot(range(1, len(ada1.cost_) + 1), np.log10(ada1.cost_), marker='o')\n",
    "ax[0].set_xlabel('Epochs')\n",
    "ax[0].set_ylabel('log(Sum-squared-error)')\n",
    "ax[0].set_title('Adaline - Learning rate 0.1')\n",
    "\n",
    "ada2 = AdalineSGD(n_iter=10, eta=0.01).fit(X_std, y)\n",
    "ax[1].plot(range(1, len(ada2.cost_) + 1), np.log10(ada2.cost_), marker='o')\n",
    "ax[1].set_xlabel('Epochs')\n",
    "ax[1].set_ylabel('log(Sum-squared-error)')\n",
    "ax[1].set_title('Adaline - Learning rate 0.01')\n",
    "\n",
    "# plt.savefig('images/02_11.png', dpi=300)\n",
    "plt.show()"
   ]
  },
  {
   "cell_type": "markdown",
   "id": "41444c6e-457b-4b75-8045-61a4a923b6a4",
   "metadata": {},
   "source": [
    "Choosing learning rate (eta) of 0.1"
   ]
  },
  {
   "cell_type": "code",
   "execution_count": null,
   "id": "50bd4ce7-3de7-472a-ad19-f56653c1122c",
   "metadata": {},
   "outputs": [],
   "source": [
    "ada_sgd = AdalineSGD(n_iter=15, eta=0.1)\n",
    "ada_sgd.fit(X_std, y)\n",
    "\n",
    "plot_decision_regions_3D(X_std, y, classifier=ada_sgd, v1=0,v2=20,v3=0)\n",
    "plt.title('Adaline: setosa vs. versicolor (3 features)')\n",
    "plt.legend([\"separation plane\", \"setosa\",\"versicolor\"],loc=\"upper left\")\n",
    "plt.tight_layout()\n",
    "plt.show()\n",
    "\n",
    "plt.plot(range(1, len(ada_sgd.cost_)+1),ada_sgd.cost_,marker='o')\n",
    "plt.xlabel('Epochs')\n",
    "plt.ylabel('Sum-squared-error')\n",
    "plt.tight_layout()\n",
    "plt.show()"
   ]
  },
  {
   "cell_type": "markdown",
   "id": "13b2eb28-0fab-49d3-88c9-393ca367f0e3",
   "metadata": {},
   "source": [
    "## Evaluating the model"
   ]
  },
  {
   "cell_type": "code",
   "execution_count": null,
   "id": "7e1829cb-9670-4a84-be78-af8de6e9c918",
   "metadata": {},
   "outputs": [],
   "source": [
    "train_acc = ada_sgd.evaluate(X_std,y)\n",
    "print(\"training set accuracy: %.2f%%\" % (train_acc*100))"
   ]
  },
  {
   "cell_type": "markdown",
   "id": "68813305-4bee-44e8-a87c-ec06a538c6ef",
   "metadata": {},
   "source": [
    "As shown in the graph, Adaline is able to classify the data. "
   ]
  },
  {
   "cell_type": "markdown",
   "id": "2f414398-ccdc-4637-92ae-b75ed8b9557c",
   "metadata": {},
   "source": [
    "## 6. Repeat Step 4) using all four features at the same time.\n",
    "\n",
    "Selected classes (2): \n",
    "- Iris-setosa\n",
    "- Iris-versicolor\n",
    "\n",
    "Selected features (4): \n",
    "- Sepal length\n",
    "- Sepal Width\n",
    "- Petal length\n",
    "- Petal Width"
   ]
  },
  {
   "cell_type": "code",
   "execution_count": null,
   "id": "083644d1-0fa3-4901-aa1d-a7d7640bf8c1",
   "metadata": {},
   "outputs": [],
   "source": [
    "XX = df.loc[0:99]\n",
    "X = XX[[\"sepal_length\",\"sepal_width\",\"petal_length\", \"petal_width\"]].values"
   ]
  },
  {
   "cell_type": "code",
   "execution_count": null,
   "id": "a21109f9-95c3-4db0-bb16-af2ab631a777",
   "metadata": {},
   "outputs": [],
   "source": [
    "XX.shape"
   ]
  },
  {
   "cell_type": "code",
   "execution_count": null,
   "id": "5a6beb94-0054-482c-a575-c08ce7dbb29b",
   "metadata": {},
   "outputs": [],
   "source": [
    "# Scatter plot of the dataset\n",
    "sns.pairplot(XX,hue=\"class_label\")\n",
    "plt.show()"
   ]
  },
  {
   "cell_type": "markdown",
   "id": "1ab3577f-9990-4259-ae89-04379ed4a269",
   "metadata": {},
   "source": [
    "As shown in the graphs, the data is linearly separable."
   ]
  },
  {
   "cell_type": "markdown",
   "id": "50a897bb-28f9-4453-bf6e-8aa7fe3a82b7",
   "metadata": {},
   "source": [
    "### Perceptron - linearly separable (4 features)"
   ]
  },
  {
   "cell_type": "code",
   "execution_count": null,
   "id": "8815b40a-b11a-455c-ab45-5f76e95652f4",
   "metadata": {},
   "outputs": [],
   "source": [
    "ppn = Perceptron(eta=0.1, n_iter=10)\n",
    "ppn.fit(X,y)\n",
    "\n",
    "plt.plot(range(1, len(ppn.errors_)+1), ppn.errors_, marker=\"o\")\n",
    "plt.xlabel(\"epochs\")\n",
    "plt.ylabel(\"# of updates\")\n",
    "plt.title(\"Misclassification errors on each epochs\")\n",
    "plt.show()"
   ]
  },
  {
   "cell_type": "markdown",
   "id": "9a9ff3b5-ae8e-4134-a9d2-809f0ee21090",
   "metadata": {},
   "source": [
    "As shown in the graph, perceptron converges after 4 epochs."
   ]
  },
  {
   "cell_type": "markdown",
   "id": "34e370a5-eefd-4f6d-b684-d1a4af9c5797",
   "metadata": {},
   "source": [
    "## Evaluating the model"
   ]
  },
  {
   "cell_type": "code",
   "execution_count": null,
   "id": "357a26a4-5abb-4b8b-90ce-ad1519969eba",
   "metadata": {},
   "outputs": [],
   "source": [
    "train_acc = ppn.evaluate(X,y)\n",
    "print(\"training set accuracy: %.2f%%\" % (train_acc*100))"
   ]
  },
  {
   "cell_type": "markdown",
   "id": "0ad3fbb7-f670-4858-9727-f22b239d337a",
   "metadata": {},
   "source": [
    "As with the accuracy, Perceptron is able to classify the data sets. "
   ]
  },
  {
   "cell_type": "markdown",
   "id": "7fbfa8cd-cc1e-4544-8f2b-8c4355ca37f7",
   "metadata": {},
   "source": [
    "### Adaline - linearly separable (4 features)"
   ]
  },
  {
   "cell_type": "code",
   "execution_count": null,
   "id": "f75c10c0-5ddb-416a-9179-08d2bafbe713",
   "metadata": {},
   "outputs": [],
   "source": [
    "X_std = np.copy(X)\n",
    "X_std[:,0] = (X[:,0] - X[:,0].mean()) / X[:,0].std()\n",
    "X_std[:,1] = (X[:,1] - X[:,1].mean()) / X[:,1].std()\n",
    "X_std[:,2] = (X[:,2] - X[:,2].mean()) / X[:,2].std()\n",
    "X_std[:,3] = (X[:,3] - X[:,3].mean()) / X[:,3].std()"
   ]
  },
  {
   "cell_type": "code",
   "execution_count": null,
   "id": "7a8d4545-4f3e-450e-b0ab-e788b8f50c13",
   "metadata": {},
   "outputs": [],
   "source": [
    "fig, ax = plt.subplots(nrows=1, ncols=2, figsize=(10, 4))\n",
    "\n",
    "ada1 = AdalineSGD(n_iter=10, eta=0.01).fit(X_std, y)\n",
    "ax[0].plot(range(1, len(ada1.cost_) + 1), np.log10(ada1.cost_), marker='o')\n",
    "ax[0].set_xlabel('Epochs')\n",
    "ax[0].set_ylabel('log(Sum-squared-error)')\n",
    "ax[0].set_title('Adaline - Learning rate 0.01')\n",
    "\n",
    "ada2 = AdalineSGD(n_iter=10, eta=0.0001).fit(X_std, y)\n",
    "ax[1].plot(range(1, len(ada2.cost_) + 1), ada2.cost_, marker='o')\n",
    "ax[1].set_xlabel('Epochs')\n",
    "ax[1].set_ylabel('Sum-squared-error')\n",
    "ax[1].set_title('Adaline - Learning rate 0.0001')\n",
    "\n",
    "# plt.savefig('images/02_11.png', dpi=300)\n",
    "plt.show()"
   ]
  },
  {
   "cell_type": "code",
   "execution_count": null,
   "id": "22f08556-517d-41f0-88df-c7409cb21c7d",
   "metadata": {},
   "outputs": [],
   "source": [
    "ada_sgd = AdalineSGD(n_iter=15, eta=0.01)\n",
    "ada_sgd.fit(X_std, y)\n",
    "\n",
    "plt.plot(range(1, len(ada_sgd.cost_)+1),ada_sgd.cost_,marker='o')\n",
    "plt.xlabel('Epochs')\n",
    "plt.ylabel('Sum-squared-error')\n",
    "plt.tight_layout()\n",
    "plt.show()"
   ]
  },
  {
   "cell_type": "markdown",
   "id": "c6cc0474-03ff-4586-8883-92132608da3b",
   "metadata": {},
   "source": [
    "## Evaluating the model"
   ]
  },
  {
   "cell_type": "code",
   "execution_count": null,
   "id": "405be6ad-8690-483f-8af4-8531c5aebb1b",
   "metadata": {},
   "outputs": [],
   "source": [
    "train_acc = ada_sgd.evaluate(X_std,y)\n",
    "print(\"training set accuracy: %.2f%%\" % (train_acc*100))"
   ]
  },
  {
   "cell_type": "markdown",
   "id": "a6d22485-d5a1-4717-8a2a-42031c9d4c8b",
   "metadata": {},
   "source": [
    "As with the number, Adaline has a 100% accuracy."
   ]
  },
  {
   "cell_type": "markdown",
   "id": "9903625d-8ffe-4d01-88ce-fbd6ab811572",
   "metadata": {},
   "source": [
    "## 7. Pick two classes of data (i.e., two species of Iris) and two features from the four in the dataset, so that the data for two species are NOT linearly separable using the features that you have chosen.\n",
    "\n",
    "Selected classes (2): \n",
    "- Iris-setosa\n",
    "- Iris-verginica\n",
    "\n",
    "Selected features (2): \n",
    "- Sepal length\n",
    "- Petal length"
   ]
  },
  {
   "cell_type": "markdown",
   "id": "3cb9b6f1-4122-4245-bcf2-7bf0b663f44a",
   "metadata": {},
   "source": [
    "Extract the last 100 class labels that correspond to the 50 Iris-versicolor and 50 Iris-setosa flowers"
   ]
  },
  {
   "cell_type": "code",
   "execution_count": null,
   "id": "c4053265-229d-4b94-95c8-86a08c818237",
   "metadata": {},
   "outputs": [],
   "source": [
    "y = df.loc[50:,\"class_label\"].values\n",
    "y"
   ]
  },
  {
   "cell_type": "code",
   "execution_count": null,
   "id": "ac66dae3-8f2d-44a5-9062-3bb2e6151ad0",
   "metadata": {},
   "outputs": [],
   "source": [
    "y = np.where(y==\"Iris-versicolor\",-1,1)\n",
    "y"
   ]
  },
  {
   "cell_type": "code",
   "execution_count": null,
   "id": "d4d9a68a-1b40-4ce2-b46f-5089d2ac7358",
   "metadata": {},
   "outputs": [],
   "source": [
    "X = df.loc[50:, [\"sepal_length\",\"petal_length\"]].values"
   ]
  },
  {
   "cell_type": "code",
   "execution_count": null,
   "id": "0c30610c-fc58-43bd-b478-a4d906e46fd2",
   "metadata": {},
   "outputs": [],
   "source": [
    "plt.scatter(X[:50,0], X[:50,1], color=\"red\", marker=\"o\", label=\"versicolor\")\n",
    "plt.scatter(X[50:100,0], X[50:100,1], color=\"blue\", marker=\"x\", label=\"verginica\")\n",
    "plt.xlabel(\"sepal length (cm)\")\n",
    "plt.ylabel(\"petal length (cm)\")\n",
    "plt.title(\"versicolor vs. verginica (sepal length/ petal length)\")\n",
    "plt.legend(loc=\"upper left\")\n",
    "plt.show()"
   ]
  },
  {
   "cell_type": "markdown",
   "id": "9cdb7b67-ccf4-412c-bb36-75d21c162004",
   "metadata": {},
   "source": [
    "As shown in the graph, the selected data is not linearly separable."
   ]
  },
  {
   "cell_type": "markdown",
   "id": "b06c3058-8db4-40e8-92a4-6e0ed6f5ee94",
   "metadata": {},
   "source": [
    "### Perceptron - not linearly separable (2 features)"
   ]
  },
  {
   "cell_type": "code",
   "execution_count": null,
   "id": "31c532d7-bb71-48a2-ac19-c268e6f5ee78",
   "metadata": {},
   "outputs": [],
   "source": [
    "ppn = Perceptron(eta=0.1, n_iter=10)\n",
    "ppn.fit(X,y)\n",
    "plt.plot(range(1, len(ppn.errors_)+1), ppn.errors_, marker=\"o\")\n",
    "plt.xlabel(\"epochs\")\n",
    "plt.ylabel(\"# of updates\")\n",
    "plt.title(\"Misclassification errors on each number of epochs\")\n",
    "plt.show()"
   ]
  },
  {
   "cell_type": "markdown",
   "id": "a86f2b6b-457d-4de6-849c-74b7c292b6a2",
   "metadata": {},
   "source": [
    "As shown in the plot, perceptron is not converged."
   ]
  },
  {
   "cell_type": "code",
   "execution_count": null,
   "id": "e15ce993-703d-41de-8bed-7bcb783732bc",
   "metadata": {},
   "outputs": [],
   "source": [
    "plot_decision_regions(X, y, classifier=ppn)\n",
    "plt.xlabel(\"sepal length (cm)\")\n",
    "plt.ylabel(\"petal length (cm)\")\n",
    "plt.legend([\"versicolor\",\"verginica\"],loc=\"upper left\")\n",
    "plt.title(\"Perceptron: versicolor vs. verginica (2 \")\n",
    "plt.show()"
   ]
  },
  {
   "cell_type": "markdown",
   "id": "dbb65c14-3995-4a06-917f-5b52d18ea791",
   "metadata": {},
   "source": [
    "## Evaluating the model"
   ]
  },
  {
   "cell_type": "markdown",
   "id": "be3c5a29-07cf-4073-a93c-0cba6c82ae4c",
   "metadata": {},
   "source": [
    "Can not calculate accuracy because the data is not linearly separable.\n",
    "\n",
    "Since the data is not linearly separable, it is not possible to use Perceptron."
   ]
  },
  {
   "cell_type": "markdown",
   "id": "6de39d2f-2ea2-4a74-bbea-222a364ab6f9",
   "metadata": {},
   "source": [
    "### Adaline - not linearly separable (2 features)"
   ]
  },
  {
   "cell_type": "code",
   "execution_count": null,
   "id": "8f16a393-0151-4748-b4dd-3c2359498f2e",
   "metadata": {},
   "outputs": [],
   "source": [
    "X_std = np.copy(X)\n",
    "X_std[:,0] = (X[:,0] - X[:,0].mean()) / X[:,0].std()\n",
    "X_std[:,1] = (X[:,1] - X[:,1].mean()) / X[:,1].std()"
   ]
  },
  {
   "cell_type": "code",
   "execution_count": null,
   "id": "783e4a89-6bf2-4c14-9070-26aec726ab30",
   "metadata": {},
   "outputs": [],
   "source": [
    "fig, ax = plt.subplots(nrows=1, ncols=2, figsize=(10, 4))\n",
    "\n",
    "ada1 = AdalineSGD(n_iter=10, eta=0.01).fit(X_std, y)\n",
    "ax[0].plot(range(1, len(ada1.cost_) + 1), np.log10(ada1.cost_), marker='o')\n",
    "ax[0].set_xlabel('Epochs')\n",
    "ax[0].set_ylabel('log(Sum-squared-error)')\n",
    "ax[0].set_title('Adaline - Learning rate 0.01')\n",
    "\n",
    "ada2 = AdalineSGD(n_iter=10, eta=0.0001).fit(X_std, y)\n",
    "ax[1].plot(range(1, len(ada2.cost_) + 1), ada2.cost_, marker='o')\n",
    "ax[1].set_xlabel('Epochs')\n",
    "ax[1].set_ylabel('Sum-squared-error')\n",
    "ax[1].set_title('Adaline - Learning rate 0.0001')\n",
    "\n",
    "# plt.savefig('images/02_11.png', dpi=300)\n",
    "plt.show()"
   ]
  },
  {
   "cell_type": "code",
   "execution_count": null,
   "id": "3aad8ad2-acee-4574-b792-c23f9c1e35c2",
   "metadata": {},
   "outputs": [],
   "source": [
    "ada_sgd = AdalineSGD(n_iter=15, eta=0.01)\n",
    "ada_sgd.fit(X_std, y)\n",
    "\n",
    "plot_decision_regions(X_std, y, classifier=ada_sgd)\n",
    "plt.title('Adaline: versicolor vs. virginica (2 features)')\n",
    "plt.xlabel('sepal length [Standardized]')\n",
    "plt.ylabel('petal length [Standardized]')\n",
    "plt.legend([\"versicolor\",\"virginica\"],loc=\"upper left\")\n",
    "plt.tight_layout()\n",
    "plt.show()\n",
    "\n",
    "plt.plot(range(1, len(ada_sgd.cost_)+1),ada_sgd.cost_,marker='o')\n",
    "plt.xlabel('Epochs')\n",
    "plt.ylabel('Sum-squared-error')\n",
    "plt.tight_layout()\n",
    "plt.show()"
   ]
  },
  {
   "cell_type": "markdown",
   "id": "d6f1f229-f77e-43ac-b6a0-10afe33b9b21",
   "metadata": {},
   "source": [
    "## Evaluating the model"
   ]
  },
  {
   "cell_type": "code",
   "execution_count": null,
   "id": "9ff44382-d9f7-4855-b291-3d67a9618970",
   "metadata": {},
   "outputs": [],
   "source": [
    "train_acc = ada_sgd.evaluate(X_std,y)\n",
    "print(\"training set accuracy: %.2f%%\" % (train_acc*100))"
   ]
  },
  {
   "cell_type": "markdown",
   "id": "4197050f-8b78-4008-97f7-624fc24b0f78",
   "metadata": {},
   "source": [
    "As shown in the graph, Adaline method is better fitting the dataset."
   ]
  },
  {
   "cell_type": "markdown",
   "id": "c5988d95-2862-4055-a9ea-d55a8f6c7b71",
   "metadata": {},
   "source": [
    "## 8. Repeat Step 7) using three features at a time.\n",
    "\n",
    "Selected classes (2): \n",
    "- Iris-versicolor\n",
    "- Iris-virginica\n",
    "\n",
    "Selected features (3): \n",
    "- Sepal length\n",
    "- Sepal Width\n",
    "- Petal length"
   ]
  },
  {
   "cell_type": "code",
   "execution_count": null,
   "id": "53faf3e7-c79e-433c-8534-b6629f68b1e8",
   "metadata": {},
   "outputs": [],
   "source": [
    "X = df.loc[50:, [\"sepal_length\",\"sepal_width\",\"petal_length\"]].values"
   ]
  },
  {
   "cell_type": "code",
   "execution_count": null,
   "id": "dc016a41-8019-4b16-ad3e-013d57a288ee",
   "metadata": {},
   "outputs": [],
   "source": [
    "fig = plt.figure(figsize=(12,8))\n",
    "ax = fig.add_subplot(projection='3d')\n",
    "\n",
    "plt.scatter(X[:50,0], X[:50,1], X[:50,2], color=\"red\", marker=\"o\", label=\"versicolor\")\n",
    "plt.scatter(X[50:100,0], X[50:100,1], X[50:100,2], color=\"blue\", marker=\"x\", label=\"virginica\")\n",
    "ax.set_xlabel(\"sepal length (cm)\")\n",
    "ax.set_ylabel(\"sepal width (cm)\")\n",
    "ax.set_zlabel(\"petal length (cm)\")\n",
    "\n",
    "plt.title(\"versicolor vs. virginica (sepal length/ sepal width/ petal length)\")\n",
    "plt.legend(loc=\"upper left\")\n",
    "plt.show()"
   ]
  },
  {
   "cell_type": "markdown",
   "id": "a69c2582-2282-492a-befe-3f7b03c4c367",
   "metadata": {},
   "source": [
    "As shown in the graph, the data is not linearly separable."
   ]
  },
  {
   "cell_type": "markdown",
   "id": "5afd8671-8083-45aa-a077-dd7f37d54129",
   "metadata": {},
   "source": [
    "### Perceptron - not linearly separable (3 features)"
   ]
  },
  {
   "cell_type": "code",
   "execution_count": null,
   "id": "3a6f4193-0171-4fec-80b6-ab031468710f",
   "metadata": {},
   "outputs": [],
   "source": [
    "ppn = Perceptron(eta=0.1, n_iter=10)\n",
    "ppn.fit(X,y)\n",
    "\n",
    "plt.plot(range(1, len(ppn.errors_)+1), ppn.errors_, marker=\"o\")\n",
    "plt.xlabel(\"epochs\")\n",
    "plt.ylabel(\"# of updates\")\n",
    "plt.title(\"Misclassification errors on each epochs\")\n",
    "plt.show()"
   ]
  },
  {
   "cell_type": "markdown",
   "id": "54149c7b-4569-49c4-a1d3-e0cf6d86f875",
   "metadata": {},
   "source": [
    "As shown in the graph above, there is no convergence."
   ]
  },
  {
   "cell_type": "code",
   "execution_count": null,
   "id": "1ccf3fc1-9af8-4b11-a405-5f1f8cc910a2",
   "metadata": {},
   "outputs": [],
   "source": [
    "plot_decision_regions_3D(X, y, classifier=ppn,v1=10,v2=0,v3=0)\n",
    "plt.legend([\"separation plane\",\"versicolor\",\"virginica\"],loc=\"upper left\")\n",
    "plt.title(\"Perceptron: versicolor vs. virginica (3 features)\")\n",
    "plt.show()"
   ]
  },
  {
   "cell_type": "markdown",
   "id": "e9eec164-fde5-4ca3-ba99-120b0186d3bc",
   "metadata": {},
   "source": [
    "## Evaluating the model"
   ]
  },
  {
   "cell_type": "markdown",
   "id": "4281a35e-e287-4279-8717-c4ccadcad996",
   "metadata": {},
   "source": [
    "Can not calculate accuracy because the data is not linearly separable.\n",
    "\n",
    "Since the data is not linearly separable, it is not possible to use Perceptron."
   ]
  },
  {
   "cell_type": "markdown",
   "id": "d87bddd5-b476-4041-9ef0-1b68e47f7cc0",
   "metadata": {},
   "source": [
    "### Adaline - not linearly separable (3 features)"
   ]
  },
  {
   "cell_type": "code",
   "execution_count": null,
   "id": "35307c06-ae7a-44d5-8eed-79eaff8cda53",
   "metadata": {},
   "outputs": [],
   "source": [
    "X_std = np.copy(X)\n",
    "X_std[:,0] = (X[:,0] - X[:,0].mean()) / X[:,0].std()\n",
    "X_std[:,1] = (X[:,1] - X[:,1].mean()) / X[:,1].std()\n",
    "X_std[:,2] = (X[:,2] - X[:,2].mean()) / X[:,2].std()"
   ]
  },
  {
   "cell_type": "code",
   "execution_count": null,
   "id": "1f70f7e1-377c-4565-ab82-e416d16ee704",
   "metadata": {},
   "outputs": [],
   "source": [
    "fig, ax = plt.subplots(nrows=1, ncols=2, figsize=(10, 4))\n",
    "\n",
    "ada1 = AdalineSGD(n_iter=10, eta=0.01).fit(X_std, y)\n",
    "ax[0].plot(range(1, len(ada1.cost_) + 1), np.log10(ada1.cost_), marker='o')\n",
    "ax[0].set_xlabel('Epochs')\n",
    "ax[0].set_ylabel('log(Sum-squared-error)')\n",
    "ax[0].set_title('Adaline - Learning rate 0.01')\n",
    "\n",
    "ada2 = AdalineSGD(n_iter=10, eta=0.0001).fit(X_std, y)\n",
    "ax[1].plot(range(1, len(ada2.cost_) + 1), ada2.cost_, marker='o')\n",
    "ax[1].set_xlabel('Epochs')\n",
    "ax[1].set_ylabel('Sum-squared-error')\n",
    "ax[1].set_title('Adaline - Learning rate 0.0001')\n",
    "\n",
    "# plt.savefig('images/02_11.png', dpi=300)\n",
    "plt.show()"
   ]
  },
  {
   "cell_type": "code",
   "execution_count": null,
   "id": "68a378ad-4fd3-4fdd-a837-5cb5a4515847",
   "metadata": {},
   "outputs": [],
   "source": [
    "ada_sgd = AdalineSGD(n_iter=15, eta=0.01)\n",
    "ada_sgd.fit(X_std, y)\n",
    "\n",
    "plot_decision_regions_3D(X_std, y, classifier=ada_sgd, v1=0,v2=20,v3=0)\n",
    "plt.title('Adaline: versicolor vs. virginica (3 features)')\n",
    "plt.xlabel('sepal length')\n",
    "plt.ylabel('petal length')\n",
    "plt.legend([\"separation plane\",\"versicolor\", \"virginica\"],loc=\"upper left\")\n",
    "plt.tight_layout()\n",
    "plt.show()\n",
    "\n",
    "plt.plot(range(1, len(ada_sgd.cost_)+1),ada_sgd.cost_,marker='o')\n",
    "plt.xlabel('Epochs')\n",
    "plt.ylabel('Sum-squared-error')\n",
    "plt.tight_layout()\n",
    "plt.show()"
   ]
  },
  {
   "cell_type": "markdown",
   "id": "4db678d5-ad7b-4c98-bb9f-8696b3614942",
   "metadata": {},
   "source": [
    "## Evaluating the model"
   ]
  },
  {
   "cell_type": "code",
   "execution_count": null,
   "id": "c5a3c422-37aa-4d7b-812a-835d78b817c2",
   "metadata": {},
   "outputs": [],
   "source": [
    "train_acc = ada_sgd.evaluate(X_std,y)\n",
    "print(\"training set accuracy: %.2f%%\" % (train_acc*100))"
   ]
  },
  {
   "cell_type": "markdown",
   "id": "a19100a9-d522-4a76-80c5-cae16341b0f7",
   "metadata": {},
   "source": [
    "As shown in the plot, Adaline able to classify the data."
   ]
  },
  {
   "cell_type": "markdown",
   "id": "58301b0f-a667-48ad-a32c-af62681fd638",
   "metadata": {},
   "source": [
    "## 9. Repeat Step 7) using all four feature at the same time.\n",
    "\n",
    "Selected classes (2): \n",
    "- Iris-versicolor\n",
    "- Iris-virginica\n",
    "\n",
    "Selected features (4): \n",
    "- Sepal length\n",
    "- Sepal Width\n",
    "- Petal length\n",
    "- Petal Width\n"
   ]
  },
  {
   "cell_type": "code",
   "execution_count": null,
   "id": "d6224709-a81b-4f48-b26e-39b1496ac0be",
   "metadata": {},
   "outputs": [],
   "source": [
    "XX = df.loc[50:]\n",
    "X = XX[[\"sepal_length\",\"sepal_width\",\"petal_length\", \"petal_width\"]].values"
   ]
  },
  {
   "cell_type": "code",
   "execution_count": null,
   "id": "b128573d-ffe6-4936-ae93-a683c86c8924",
   "metadata": {},
   "outputs": [],
   "source": [
    "# Scatter plot of the dataset\n",
    "sns.pairplot(XX,hue=\"class_label\")\n",
    "plt.show()"
   ]
  },
  {
   "cell_type": "markdown",
   "id": "0c77e1c7-05c6-483d-b663-9b4f54e9c2dc",
   "metadata": {},
   "source": [
    "As shown in the plot, all data are not linearly separable."
   ]
  },
  {
   "cell_type": "markdown",
   "id": "9b5f3cd2-e1be-4288-8e18-38aaff492b82",
   "metadata": {},
   "source": [
    "### Perceptron - not linearly separable (4 features)"
   ]
  },
  {
   "cell_type": "code",
   "execution_count": null,
   "id": "4dd4487d-22d0-466b-b350-be588eb322d5",
   "metadata": {},
   "outputs": [],
   "source": [
    "ppn = Perceptron(eta=0.1, n_iter=10)\n",
    "ppn.fit(X,y)\n",
    "\n",
    "plt.plot(range(1, len(ppn.errors_)+1), ppn.errors_, marker=\"o\")\n",
    "plt.xlabel(\"epochs\")\n",
    "plt.ylabel(\"# of updates\")\n",
    "plt.title(\"Misclassification errors on each epochs\")\n",
    "plt.show()"
   ]
  },
  {
   "cell_type": "markdown",
   "id": "1eeb1330-f9b0-4ae6-820a-902cc9843bb4",
   "metadata": {},
   "source": [
    "As shown in the graph, perceptron does not converged."
   ]
  },
  {
   "cell_type": "markdown",
   "id": "5968974c-bb2a-4ed9-a77e-c7623317bf70",
   "metadata": {},
   "source": [
    "## Evaluating the model"
   ]
  },
  {
   "cell_type": "markdown",
   "id": "3aa6bcad-09fc-47a5-8617-4303a864e39b",
   "metadata": {},
   "source": [
    "Can not calculate accuracy because the data is not linearly separable.\n",
    "\n",
    "Since the data is not linearly separable, it is not possible to use Perceptron."
   ]
  },
  {
   "cell_type": "markdown",
   "id": "39bb7e31-c83d-4e2e-a8c0-1add0a523c47",
   "metadata": {},
   "source": [
    "### Adaline - not linearly separable (4 features)"
   ]
  },
  {
   "cell_type": "code",
   "execution_count": null,
   "id": "05a4ef3b-97e2-43cd-bdf9-5d1a8db87220",
   "metadata": {},
   "outputs": [],
   "source": [
    "X_std = np.copy(X)\n",
    "X_std[:,0] = (X[:,0] - X[:,0].mean()) / X[:,0].std()\n",
    "X_std[:,1] = (X[:,1] - X[:,1].mean()) / X[:,1].std()\n",
    "X_std[:,2] = (X[:,2] - X[:,2].mean()) / X[:,2].std()\n",
    "X_std[:,3] = (X[:,3] - X[:,3].mean()) / X[:,3].std()"
   ]
  },
  {
   "cell_type": "code",
   "execution_count": null,
   "id": "3402b4ef-1e85-4b40-8646-15833535f6c7",
   "metadata": {},
   "outputs": [],
   "source": [
    "fig, ax = plt.subplots(nrows=1, ncols=2, figsize=(10, 4))\n",
    "\n",
    "ada1 = AdalineSGD(n_iter=10, eta=0.01).fit(X_std, y)\n",
    "ax[0].plot(range(1, len(ada1.cost_) + 1), np.log10(ada1.cost_), marker='o')\n",
    "ax[0].set_xlabel('Epochs')\n",
    "ax[0].set_ylabel('log(Sum-squared-error)')\n",
    "ax[0].set_title('Adaline - Learning rate 0.01')\n",
    "\n",
    "ada2 = AdalineSGD(n_iter=10, eta=0.0001).fit(X_std, y)\n",
    "ax[1].plot(range(1, len(ada2.cost_) + 1), ada2.cost_, marker='o')\n",
    "ax[1].set_xlabel('Epochs')\n",
    "ax[1].set_ylabel('Sum-squared-error')\n",
    "ax[1].set_title('Adaline - Learning rate 0.0001')\n",
    "\n",
    "# plt.savefig('images/02_11.png', dpi=300)\n",
    "plt.show()"
   ]
  },
  {
   "cell_type": "code",
   "execution_count": null,
   "id": "097ea40a-1ae2-47fc-a234-47f96f8e7271",
   "metadata": {},
   "outputs": [],
   "source": [
    "ada_sgd = AdalineSGD(n_iter=15, eta=0.01)\n",
    "ada_sgd.fit(X_std, y)\n",
    "\n",
    "plt.plot(range(1, len(ada_sgd.cost_)+1),ada_sgd.cost_,marker='o')\n",
    "plt.xlabel('Epochs')\n",
    "plt.ylabel('Sum-squared-error')\n",
    "plt.tight_layout()\n",
    "plt.show()"
   ]
  },
  {
   "cell_type": "markdown",
   "id": "8ae1e324-028a-41fb-ac8a-263a0528e5f9",
   "metadata": {},
   "source": [
    "## Evaluating the model"
   ]
  },
  {
   "cell_type": "code",
   "execution_count": null,
   "id": "202dc902-9b60-4f46-a211-ac604be54234",
   "metadata": {},
   "outputs": [],
   "source": [
    "train_acc = ada_sgd.evaluate(X_std,y)\n",
    "print(\"training set accuracy: %.2f%%\" % (train_acc*100))"
   ]
  },
  {
   "cell_type": "markdown",
   "id": "6422d62a-aaa2-4d48-8d75-813bbe46982d",
   "metadata": {},
   "source": [
    "As shown in the graph, unlike Perceptron, Adaline is better suit for Non linearly Separable data."
   ]
  },
  {
   "cell_type": "markdown",
   "id": "8697bb04-acd9-47f0-9995-06e33b9066bc",
   "metadata": {},
   "source": [
    "## Summary Tables"
   ]
  },
  {
   "cell_type": "markdown",
   "id": "2d036964-6e19-4734-bea9-200c50cc100b",
   "metadata": {},
   "source": [
    "- ### Perceptron\n",
    "\n",
    "|  Species 1 | Species 2  | Sepal length | Sepal width | Petal length | Petal width | Result            | Accuracy  |\n",
    "|------------|------------|--------------|-------------|--------------|-------------|-------------------|-----------|\n",
    "| setosa     | versicolor | o            |             | o            |             | converged         |   100%    |\n",
    "| setosa     | versicolor | o            | o           | o            |             | converged         |   100%    |\n",
    "| setosa     | versicolor | o            | o           | o            |  o          | converged         |   100%    |\n",
    "| versicolor | virginica  | o            |             | o            |             | not converged     |   N/A     |\n",
    "| versicolor | virginica  | o            | o           | o            |             | not converged     |   N/A     |\n",
    "| versicolor | virginica  | o            | o           | o            |  o          | not converged     |   N/A     |\n",
    "\n",
    "- ### Adaline\n",
    "\n",
    "|  Species 1 | Species 2  | Sepal length | Sepal width | Petal length | Petal width | Result            | Accuracy  |\n",
    "|------------|------------|--------------|-------------|--------------|-------------|-------------------|-----------|\n",
    "| setosa     | versicolor | o            |             | o            |             | converged         |   100%    |\n",
    "| setosa     | versicolor | o            | o           | o            |             | converged         |   100%    |\n",
    "| setosa     | versicolor | o            | o           | o            |  o          | converged         |   100%    |\n",
    "| versicolor | virginica  | o            |             | o            |             | converged         |    95%    |\n",
    "| versicolor | virginica  | o            | o           | o            |             | converged         |    94%    |\n",
    "| versicolor | virginica  | o            | o           | o            |  o          | converged         |    97%    |\n"
   ]
  },
  {
   "cell_type": "markdown",
   "id": "c731950e-5b1a-45e0-994d-c58cea405f87",
   "metadata": {},
   "source": [
    "## Conclusion"
   ]
  },
  {
   "cell_type": "markdown",
   "id": "9be18fa1-860d-49a7-a0aa-9cb2d4af681e",
   "metadata": {},
   "source": [
    "- ### Perceptron\n",
    "    - Binary Linear Classifier\n",
    "    - Use step function\n",
    "    - Only work with linearly separable data sets.\n",
    "    - Does not converge if classes are not linearly separable\n",
    "    - Guaranteed to converge to a solution if the data is linearly separable. However, it might not be the most optimal one.\n"
   ]
  },
  {
   "cell_type": "markdown",
   "id": "8c87f9a0-0608-4547-9f73-8fcdc1776f9c",
   "metadata": {},
   "source": [
    "  - ### Adaline\n",
    "    - Also a Binary Linear Classifier\n",
    "    - Use Gradient Descent\n",
    "    - Can work with non linearly separable data sets.\n",
    "    - Always converges regardless of linearly separable or not\n",
    "    - Always try to optimizes the solution with minimal errors"
   ]
  },
  {
   "cell_type": "code",
   "execution_count": null,
   "id": "c55895b3-9e50-4379-b91f-abf067ca23b3",
   "metadata": {},
   "outputs": [],
   "source": []
  }
 ],
 "metadata": {
  "kernelspec": {
   "display_name": "Python 3 (ipykernel)",
   "language": "python",
   "name": "python3"
  },
  "language_info": {
   "codemirror_mode": {
    "name": "ipython",
    "version": 3
   },
   "file_extension": ".py",
   "mimetype": "text/x-python",
   "name": "python",
   "nbconvert_exporter": "python",
   "pygments_lexer": "ipython3",
   "version": "3.12.1"
  }
 },
 "nbformat": 4,
 "nbformat_minor": 5
}
